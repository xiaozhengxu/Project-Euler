{
 "cells": [
  {
   "cell_type": "code",
   "execution_count": null,
   "metadata": {
    "collapsed": true
   },
   "outputs": [],
   "source": [
    "import numpy as np\n",
    "import math"
   ]
  },
  {
   "cell_type": "markdown",
   "metadata": {},
   "source": [
    "Problem 66:\n",
    "\n",
    "\n",
    "Consider quadratic Diophantine equations of the form:\n",
    "\n",
    "x2 – Dy2 = 1\n",
    "\n",
    "For example, when D=13, the minimal solution in x is 6492 – 13×1802 = 1.\n",
    "\n",
    "It can be assumed that there are no solutions in positive integers when D is square.\n",
    "\n",
    "By finding minimal solutions in x for D = {2, 3, 5, 6, 7}, we obtain the following:\n",
    "\n",
    "32 – 2×22 = 1\n",
    "\n",
    "22 – 3×12 = 1\n",
    "\n",
    "92 – 5×42 = 1\n",
    "\n",
    "52 – 6×22 = 1\n",
    "\n",
    "82 – 7×32 = 1\n",
    "\n",
    "Hence, by considering minimal solutions in x for D ≤ 7, the largest x is obtained when D=5.\n",
    "\n",
    "Find the value of D ≤ 1000 in minimal solutions of x for which the largest value of x is obtained.\n"
   ]
  },
  {
   "cell_type": "code",
   "execution_count": null,
   "metadata": {
    "collapsed": true
   },
   "outputs": [],
   "source": []
  },
  {
   "cell_type": "markdown",
   "metadata": {},
   "source": [
    "Problem 74:\n",
    "\n",
    "The number 145 is well known for the property that the sum of the factorial of its digits is equal to 145:\n",
    "\n",
    "1! + 4! + 5! = 1 + 24 + 120 = 145\n",
    "\n",
    "Perhaps less well known is 169, in that it produces the longest chain of numbers that link back to 169; it turns out that there are only three such loops that exist:\n",
    "\n",
    "169 → 363601 → 1454 → 169\n",
    "\n",
    "871 → 45361 → 871\n",
    "\n",
    "872 → 45362 → 872\n",
    "\n",
    "It is not difficult to prove that EVERY starting number will eventually get stuck in a loop. For example,\n",
    "\n",
    "69 → 363600 → 1454 → 169 → 363601 (→ 1454)\n",
    "\n",
    "78 → 45360 → 871 → 45361 (→ 871)\n",
    "\n",
    "540 → 145 (→ 145)\n",
    "\n",
    "Starting with 69 produces a chain of five non-repeating terms, but the longest non-repeating chain with a starting number below one million is sixty terms.\n",
    "\n",
    "How many chains, with a starting number below one million, contain exactly sixty non-repeating terms?\n"
   ]
  },
  {
   "cell_type": "code",
   "execution_count": 2,
   "metadata": {
    "collapsed": false
   },
   "outputs": [
    {
     "data": {
      "text/plain": [
       "363601"
      ]
     },
     "execution_count": 2,
     "metadata": {},
     "output_type": "execute_result"
    }
   ],
   "source": [
    "lengths = np.zeros(1000001,dtype = 'int')\n",
    "\n",
    "counter = 0\n",
    "\n",
    "def find_factorial_sum(n):\n",
    "    return sum([math.factorial(int(d)) for d in str(n)])\n",
    "\n",
    "def find_factorial_chain_length(n):\n",
    "    a = n\n",
    "    length = 0\n",
    "    if a in [169,871,872,363601,1454,45361,45362]:\n",
    "        if a in [169,363601,1454]:\n",
    "            length+=3\n",
    "        else:\n",
    "            length+=2\n",
    "        return length\n",
    "    \n",
    "    if find_factorial_sum(a)==n:\n",
    "        return 1\n",
    "    \n",
    "    a = find_factorial_sum(a)\n",
    "    length+=1\n",
    "    while a>n:\n",
    "        if a in [169,871,872,363601,1454,45361,45362]:\n",
    "            if a in [169,363601,1454]:\n",
    "                length+=3\n",
    "            else:\n",
    "                length+=2\n",
    "            return length\n",
    "        if find_factorial_sum(a)==a:\n",
    "            return length+1\n",
    "        a = find_factorial_sum(a)\n",
    "        length+=1\n",
    "    if a<n:\n",
    "        length+=lengths[a]\n",
    "        return length \n",
    "    \n",
    "find_factorial_sum(169)\n",
    "print find_factorial_chain_length(45360)\n",
    "\n",
    "for i in range(1,1000001):\n",
    "    l = find_factorial_chain_length(i)\n",
    "    lengths[i]= l\n",
    "    if i%50000 == 0:\n",
    "        print 'Now at ',i\n",
    "    if int(l)==60:\n",
    "        counter+=1\n",
    "        print 'this number creates a 60 terms chain:', i\n",
    "#     if l>50:\n",
    "#         print 'this number creates chain longer than 50 ', i, l\n",
    "print 'the answer is ', counter"
   ]
  }
 ],
 "metadata": {
  "kernelspec": {
   "display_name": "Python 2",
   "language": "python",
   "name": "python2"
  },
  "language_info": {
   "codemirror_mode": {
    "name": "ipython",
    "version": 2
   },
   "file_extension": ".py",
   "mimetype": "text/x-python",
   "name": "python",
   "nbconvert_exporter": "python",
   "pygments_lexer": "ipython2",
   "version": "2.7.10"
  }
 },
 "nbformat": 4,
 "nbformat_minor": 0
}
