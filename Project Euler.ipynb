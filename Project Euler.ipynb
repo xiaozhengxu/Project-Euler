{
 "cells": [
  {
   "cell_type": "markdown",
   "metadata": {},
   "source": [
    "More problems to solve:\n",
    "102\n",
    "\n",
    "Problems I can't solve currently: 146, 108"
   ]
  },
  {
   "cell_type": "code",
   "execution_count": 7,
   "metadata": {
    "collapsed": true
   },
   "outputs": [],
   "source": [
    "import numpy as np\n",
    "import math\n",
    "import time"
   ]
  },
  {
   "cell_type": "code",
   "execution_count": 119,
   "metadata": {
    "collapsed": false
   },
   "outputs": [],
   "source": [
    "def primes_sieve(n):\n",
    "    a = [True] * n                          # Initialize the primality list\n",
    "    a[0] = a[1] = False\n",
    "\n",
    "    for (i, isprime) in enumerate(a):\n",
    "        if isprime:\n",
    "            yield i\n",
    "            for k in xrange(i*i, n, i):     # Mark factors non-prime\n",
    "                a[k] = False\n",
    "\n",
    "primes = primes_sieve(int(1e6)+100)\n",
    "b = [p for p in primes]"
   ]
  },
  {
   "cell_type": "code",
   "execution_count": 4,
   "metadata": {
    "collapsed": false
   },
   "outputs": [
    {
     "name": "stdout",
     "output_type": "stream",
     "text": [
      "6.89029693604e-05\n"
     ]
    }
   ],
   "source": [
    "def is_prime(n):\n",
    "    \"\"\"\"pre-condition: n is a nonnegative integer\n",
    "    post-condition: return True if n is prime and False otherwise.\"\"\"\n",
    "    if n < 2: \n",
    "         return False;\n",
    "    if n % 2 == 0:             \n",
    "         return n == 2  # return False\n",
    "    k = 3\n",
    "    while k*k <= n:\n",
    "         if n % k == 0:\n",
    "            return False\n",
    "         k += 2\n",
    "    return True\n",
    "\n",
    "starttime = time.time()\n",
    "is_prime(1000000)\n",
    "print time.time() - starttime"
   ]
  },
  {
   "cell_type": "markdown",
   "metadata": {},
   "source": [
    "Problem 102 \n",
    "\n",
    "Three distinct points are plotted at random on a Cartesian plane, for which -1000 ≤ x, y ≤ 1000, such that a triangle is formed.\n",
    "\n",
    "Consider the following two triangles:\n",
    "\n",
    "A(-340,495), B(-153,-910), C(835,-947)\n",
    "\n",
    "X(-175,41), Y(-421,-714), Z(574,-645)\n",
    "\n",
    "It can be verified that triangle ABC contains the origin, whereas triangle XYZ does not.\n",
    "\n",
    "Using triangles.txt (right click and 'Save Link/Target As...'), a 27K text file containing the co-ordinates of one thousand \"random\" triangles, find the number of triangles for which the interior contains the origin.\n",
    "\n",
    "NOTE: The first two examples in the file represent the triangles in the example given above."
   ]
  },
  {
   "cell_type": "code",
   "execution_count": null,
   "metadata": {
    "collapsed": true
   },
   "outputs": [],
   "source": []
  },
  {
   "cell_type": "markdown",
   "metadata": {},
   "source": [
    "Problem 120\n",
    "\n",
    "Let r be the remainder when (a−1)^n + (a+1)^n is divided by a^2.\n",
    "\n",
    "For example, if a = 7 and n = 3, then r = 42: 6^3 + 8^3 = 728 ≡ 42 mod 49. And as n varies, so too will r, but for a = 7 it turns out that r_max = 42.\n",
    "\n",
    "For 3 ≤ a ≤ 1000, find ∑ r_max."
   ]
  },
  {
   "cell_type": "code",
   "execution_count": 5,
   "metadata": {
    "collapsed": false
   },
   "outputs": [
    {
     "name": "stdout",
     "output_type": "stream",
     "text": [
      "333082500\n"
     ]
    }
   ],
   "source": [
    "rsum = 0\n",
    "for a in range(3,1001):\n",
    "    if a%2 == 0:\n",
    "        rsum+=2*(a/2-1)*a\n",
    "    else:\n",
    "        rsum+=2*(a/2)*a\n",
    "print rsum\n",
    "#answer is 333082500"
   ]
  },
  {
   "cell_type": "markdown",
   "metadata": {},
   "source": [
    "Problem 108\n",
    "\n",
    "In the following equation x, y, and n are positive integers.\n",
    "\n",
    "1/x+1/y = 1/n\n",
    "\n",
    "For n = 4 there are exactly three distinct solutions:\n",
    "\n",
    "1/5+1/20 = 1/4\n",
    "\n",
    "1/6+1/12 = 1/4\n",
    "\n",
    "1/8+1/8 = 1/4\n",
    "\n",
    "What is the least value of n for which the number of distinct solutions exceeds one-thousand?\n",
    "\n",
    "NOTE: This problem is an easier version of Problem 110; it is strongly advised that you solve this one first."
   ]
  },
  {
   "cell_type": "code",
   "execution_count": 5,
   "metadata": {
    "collapsed": false
   },
   "outputs": [
    {
     "name": "stdout",
     "output_type": "stream",
     "text": [
      "314160 866\n"
     ]
    }
   ],
   "source": [
    "def find_solutions(n,lim):\n",
    "    counter = 0\n",
    "    xl = [x for x in range(n+1,n+lim)]\n",
    "    for x in xl:\n",
    "        y = float(n*x)/(x-n)\n",
    "        if (float(n*x)/(x-n))%1 == 0:\n",
    "            counter+=1\n",
    "            try:\n",
    "                xl.remove(int(y))\n",
    "            except:\n",
    "                pass\n",
    "    return counter\n",
    "\n",
    "\n",
    "\n",
    "def find_factors(n):\n",
    "    counter = 0\n",
    "    for f in range(1,n+1):\n",
    "        if (float(n)/f)%1 ==0:\n",
    "            counter+=1\n",
    "    return counter\n",
    "\n",
    "num = 0\n",
    "nmax = 0\n",
    "for n in range(250000,350000,10):\n",
    "    l = find_solutions(n,100000)\n",
    "    if l>num:\n",
    "        num = l\n",
    "        nmax = n\n",
    "    if num>1000:\n",
    "        break\n",
    "print nmax, num\n",
    "# find_solutions(1260,10000)"
   ]
  },
  {
   "cell_type": "code",
   "execution_count": 59,
   "metadata": {
    "collapsed": false
   },
   "outputs": [
    {
     "data": {
      "text/plain": [
       "85500"
      ]
     },
     "execution_count": 59,
     "metadata": {},
     "output_type": "execute_result"
    }
   ],
   "source": [
    "n"
   ]
  },
  {
   "cell_type": "markdown",
   "metadata": {},
   "source": [
    "Problem 142\n",
    "\n",
    "Find the smallest x + y + z with integers x > y > z > 0 such that x + y, x − y, x + z, x − z, y + z, y − z are all perfect squares."
   ]
  },
  {
   "cell_type": "code",
   "execution_count": 8,
   "metadata": {
    "collapsed": false
   },
   "outputs": [
    {
     "name": "stdout",
     "output_type": "stream",
     "text": [
      "925.0\n",
      "434657.0 420968.0 150568.0\n"
     ]
    },
    {
     "data": {
      "text/plain": [
       "1006193.0"
      ]
     },
     "execution_count": 8,
     "metadata": {},
     "output_type": "execute_result"
    }
   ],
   "source": [
    "s = [i**2 for i in range(1,1000)]\n",
    "# for i,s1 in enumerate(c):\n",
    "#     for j, s2 in enumerate(c[i:]):\n",
    "#         if s2-s1 in c:\n",
    "#             for k,s3 in enumerate(c[i+j:]):\n",
    "#                 if s3-s2 in c and s3-s1 in c:\n",
    "#                     x = math.sqrt(s3)\n",
    "#                     y = math.sqrt(s2)\n",
    "#                     z = math.sqrt(s1)\n",
    "#                     if math.sqrt(x+y)%1 == 0 and math.sqrt(x+z)%1 == 0 and math.sqrt(y+z)%1 == 0:\n",
    "#                         print x, y ,z\n",
    "\n",
    "# for i, f in enumerate(s):\n",
    "#     for j, d in enumerate(s[i+1:]):\n",
    "#         for k, e in enumerate(s[i+j+1:]):\n",
    "#             if (e-f)%2 == 0:\n",
    "#                 c = d+e-f\n",
    "#                 if math.sqrt(c)%1 ==0:\n",
    "#                     if math.sqrt((f+d+c+e)/2.)%1 == 0:\n",
    "#                         if math.sqrt((-f+d+c-e)/2.)%1 == 0:\n",
    "#                             print c,d,e,f\n",
    "#                             break\n",
    "\n",
    "c = 585225\n",
    "d = 284089\n",
    "e = 571536\n",
    "f = 270400\n",
    "x = (c+d)/2.\n",
    "y = (e+f)/2.\n",
    "z = (e-f)/2.\n",
    "print math.sqrt(y+x)\n",
    "print x,y,z\n",
    "x+y+z\n",
    "# answer is 1006193"
   ]
  },
  {
   "cell_type": "markdown",
   "metadata": {},
   "source": [
    "Problem 146\n",
    "The smallest positive integer n for which the numbers n^2+1, n^2+3, n^2+7, n^2+9, n^2+13, and n^2+27 are consecutive primes is 10. The sum of all such integers n below one-million is 1242490.\n",
    "\n",
    "What is the sum of all such integers n below 150 million?"
   ]
  },
  {
   "cell_type": "code",
   "execution_count": 50,
   "metadata": {
    "collapsed": false
   },
   "outputs": [
    {
     "ename": "KeyboardInterrupt",
     "evalue": "",
     "output_type": "error",
     "traceback": [
      "\u001b[1;31m---------------------------------------------------------------------------\u001b[0m",
      "\u001b[1;31mKeyboardInterrupt\u001b[0m                         Traceback (most recent call last)",
      "\u001b[1;32m<ipython-input-50-0e61e1d04b3a>\u001b[0m in \u001b[0;36m<module>\u001b[1;34m()\u001b[0m\n\u001b[0;32m     22\u001b[0m             \u001b[1;32mif\u001b[0m \u001b[0mb\u001b[0m\u001b[1;33m%\u001b[0m\u001b[0mk\u001b[0m \u001b[1;33m==\u001b[0m \u001b[1;36m0\u001b[0m\u001b[1;33m:\u001b[0m\u001b[1;33m\u001b[0m\u001b[0m\n\u001b[0;32m     23\u001b[0m                 \u001b[0mbs\u001b[0m\u001b[1;33m[\u001b[0m\u001b[0mj\u001b[0m\u001b[1;33m]\u001b[0m \u001b[1;33m=\u001b[0m \u001b[0mFalse\u001b[0m\u001b[1;33m\u001b[0m\u001b[0m\n\u001b[1;32m---> 24\u001b[1;33m         \u001b[0mk\u001b[0m\u001b[1;33m+=\u001b[0m\u001b[1;36m2\u001b[0m\u001b[1;33m\u001b[0m\u001b[0m\n\u001b[0m\u001b[0;32m     25\u001b[0m     \u001b[1;32mif\u001b[0m \u001b[0mgs\u001b[0m\u001b[1;33m==\u001b[0m \u001b[1;33m[\u001b[0m\u001b[0mTrue\u001b[0m\u001b[1;33m]\u001b[0m\u001b[1;33m*\u001b[0m\u001b[1;36m6\u001b[0m \u001b[1;32mand\u001b[0m \u001b[0mbs\u001b[0m \u001b[1;33m==\u001b[0m \u001b[1;33m[\u001b[0m\u001b[0mFalse\u001b[0m\u001b[1;33m]\u001b[0m\u001b[1;33m*\u001b[0m\u001b[1;36m7\u001b[0m\u001b[1;33m:\u001b[0m\u001b[1;33m\u001b[0m\u001b[0m\n\u001b[0;32m     26\u001b[0m         \u001b[0msums\u001b[0m\u001b[1;33m+=\u001b[0m\u001b[0mn\u001b[0m\u001b[1;33m\u001b[0m\u001b[0m\n",
      "\u001b[1;31mKeyboardInterrupt\u001b[0m: "
     ]
    }
   ],
   "source": [
    "# while True:\n",
    "#     p = primes.next()\n",
    "#     if math.sqrt(p - 1)%1 == 0:\n",
    "#         n = math.sqrt(p-1)\n",
    "#         if n**2+3 == primes.next():\n",
    "#             if n**2+7 == primes.next():        \n",
    "#         break\n",
    "sums = 0 \n",
    "# for n in gns:\n",
    "#     s = n**2\n",
    "#     nums = [s+1,s+3,s+7,s+9,s+13,s+27]\n",
    "#     gs = [True]*6\n",
    "#     bnums = [s+5,s+11,s+15,s+17,s+19,s+21,s+23]\n",
    "#     bs = [True]*7\n",
    "#     k = 3\n",
    "#     while k*k <= s+27:\n",
    "#         for i,g in enumerate(nums):\n",
    "#             if g%k == 0:\n",
    "#                 gs[i] = False\n",
    "#                 break\n",
    "#         for j, b in enumerate(bnums):\n",
    "#             if b%k == 0:\n",
    "#                 bs[j] = False\n",
    "#         k+=2\n",
    "#     if gs== [True]*6 and bs == [False]*7:\n",
    "#         sums+=n\n",
    "\n",
    "# gns = []\n",
    "# for n in range(2,int(1e6),2):\n",
    "#     s = n**2\n",
    "#     if is_prime(s+27):\n",
    "#         gns.append(n)\n",
    "                \n",
    "print 'the answer is', len(gns)"
   ]
  },
  {
   "cell_type": "markdown",
   "metadata": {},
   "source": [
    "Problem 134:\n",
    "\n",
    "Consider the consecutive primes p1 = 19 and p2 = 23. It can be verified that 1219 is the smallest number such that the last digits are formed by p1 whilst also being divisible by p2.\n",
    "\n",
    "In fact, with the exception of p1 = 3 and p2 = 5, for every pair of consecutive primes, p2 > p1, there exist values of n for which the last digits are formed by p1 and n is divisible by p2. Let S be the smallest of these values of n.\n",
    "\n",
    "Find ∑ S for every pair of consecutive primes with 5 ≤ p1 ≤ 1000000."
   ]
  },
  {
   "cell_type": "code",
   "execution_count": 120,
   "metadata": {
    "collapsed": false,
    "scrolled": true
   },
   "outputs": [
    {
     "name": "stdout",
     "output_type": "stream",
     "text": [
      "80197\n",
      "0.000183820724487\n",
      "the answer is  18613426663617118\n"
     ]
    }
   ],
   "source": [
    "dic3 = {3:1,6:2,9:3,2:4,5:5,8:6,1:7,4:8,7:9,0:0}\n",
    "dic7 = {7:1,4:2,1:3,8:4,5:5,2:6,9:7,6:8,3:9,0:0}\n",
    "dic9 = {9:1,8:2,7:3,6:4,5:5,4:6,3:7,2:8,1:9,0:0}\n",
    "def find_c(p1,p2):\n",
    "    p2s = [int(s) for s in str(p2)]\n",
    "    p1s = [int(s) for s in str(p1)]\n",
    "    if p2s[-1] ==1:\n",
    "        d0 = p1s[-1]\n",
    "    if p2s[-1]==3:\n",
    "        d0 = dic3[p1s[-1]]\n",
    "    if p2s[-1]==7:\n",
    "        d0 = dic7[p1s[-1]]  \n",
    "    if p2s[-1] ==9:\n",
    "        d0 = dic9[p1s[-1]]\n",
    "    m = d0 \n",
    "    if str(m*p2)[-len(p1s):]==str(p1):\n",
    "        return m*p2\n",
    "    ds = [0]*6\n",
    "    ds[0] = d0\n",
    "    \n",
    "    for i in range(5):\n",
    "#         print ds\n",
    "        for k in range(10):\n",
    "            ds[i+1] = k\n",
    "            if str(int(str(ds[5])+str(ds[4])+str(ds[3])+str(ds[2])+str(ds[1])+str(ds[0]))*p2)[-(i+2):]==str(p1)[-(i+2):]:\n",
    "                break\n",
    "        m = int(str(ds[5])+str(ds[4])+str(ds[3])+str(ds[2])+str(ds[1])+str(ds[0]))\n",
    "        if str(m*p2)[-len(p1s):]==str(p1):\n",
    "            return m*p2\n",
    "    \n",
    "starttime = time.time()        \n",
    "print find_c(b[44],b[45])\n",
    "print time.time() - starttime\n",
    "\n",
    "sums = 0\n",
    "for i,p in enumerate(b[2:-1]):\n",
    "    if p >1e6:\n",
    "        break\n",
    "    S = find_c(p,b[i+3])\n",
    "    sums+=S\n",
    "\n",
    "print 'the answer is ', sums   \n",
    "# The answer is 18613426663617118"
   ]
  },
  {
   "cell_type": "markdown",
   "metadata": {},
   "source": [
    "Problem 123\n",
    "Let p_n be the nth prime: 2, 3, 5, 7, 11, ..., and let r be the remainder when (p_n−1)^n + (p_n+1)^n is divided by p_n^2.\n",
    "\n",
    "For example, when n = 3, p_3 = 5, and 4^3 + 6^3 = 280 ≡ 5 mod 25.\n",
    "\n",
    "The least value of n for which the remainder first exceeds 10^9 is 7037.\n",
    "\n",
    "Find the least value of n for which the remainder first exceeds 10^10."
   ]
  },
  {
   "cell_type": "code",
   "execution_count": 64,
   "metadata": {
    "collapsed": false
   },
   "outputs": [
    {
     "name": "stdout",
     "output_type": "stream",
     "text": [
      "1000084366\n",
      "0.00329089164734\n"
     ]
    },
    {
     "ename": "KeyboardInterrupt",
     "evalue": "",
     "output_type": "error",
     "traceback": [
      "\u001b[1;31m---------------------------------------------------------------------------\u001b[0m",
      "\u001b[1;31mKeyboardInterrupt\u001b[0m                         Traceback (most recent call last)",
      "\u001b[1;32m<ipython-input-64-3dc3a6a68154>\u001b[0m in \u001b[0;36m<module>\u001b[1;34m()\u001b[0m\n\u001b[0;32m      6\u001b[0m \u001b[1;33m\u001b[0m\u001b[0m\n\u001b[0;32m      7\u001b[0m \u001b[1;32mfor\u001b[0m \u001b[0mi\u001b[0m\u001b[1;33m,\u001b[0m\u001b[0mp\u001b[0m \u001b[1;32min\u001b[0m \u001b[0menumerate\u001b[0m\u001b[1;33m(\u001b[0m\u001b[0mb\u001b[0m\u001b[1;33m)\u001b[0m\u001b[1;33m:\u001b[0m\u001b[1;33m\u001b[0m\u001b[0m\n\u001b[1;32m----> 8\u001b[1;33m     \u001b[1;32mif\u001b[0m \u001b[1;33m(\u001b[0m\u001b[1;33m(\u001b[0m\u001b[0mp\u001b[0m\u001b[1;33m-\u001b[0m\u001b[1;36m1\u001b[0m\u001b[1;33m)\u001b[0m\u001b[1;33m**\u001b[0m\u001b[0mi\u001b[0m \u001b[1;33m+\u001b[0m \u001b[1;33m(\u001b[0m\u001b[0mp\u001b[0m\u001b[1;33m+\u001b[0m\u001b[1;36m1\u001b[0m\u001b[1;33m)\u001b[0m\u001b[1;33m**\u001b[0m\u001b[0mi\u001b[0m\u001b[1;33m)\u001b[0m\u001b[1;33m%\u001b[0m\u001b[1;33m(\u001b[0m\u001b[0mp\u001b[0m\u001b[1;33m**\u001b[0m\u001b[1;36m2\u001b[0m\u001b[1;33m)\u001b[0m\u001b[1;33m>\u001b[0m\u001b[1;36m1e10\u001b[0m\u001b[1;33m:\u001b[0m\u001b[1;33m\u001b[0m\u001b[0m\n\u001b[0m\u001b[0;32m      9\u001b[0m         \u001b[1;32mprint\u001b[0m \u001b[1;34m'n = '\u001b[0m\u001b[1;33m,\u001b[0m \u001b[0mi\u001b[0m\u001b[1;33m,\u001b[0m \u001b[1;34m'p = '\u001b[0m\u001b[1;33m,\u001b[0m \u001b[0mp\u001b[0m\u001b[1;33m\u001b[0m\u001b[0m\n\u001b[0;32m     10\u001b[0m         \u001b[1;32mbreak\u001b[0m\u001b[1;33m\u001b[0m\u001b[0m\n",
      "\u001b[1;31mKeyboardInterrupt\u001b[0m: "
     ]
    }
   ],
   "source": [
    "p = 71059\n",
    "starttime = time.time()\n",
    "print ((p-1)**7037 + (p+1)**7037)%(p**2)\n",
    "print time.time() - starttime\n",
    "\n",
    "\n",
    "for i,p in enumerate(b):\n",
    "    if ((p-1)**i + (p+1)**i)%(p**2)>1e10:\n",
    "        print 'n = ', i, 'p = ', p\n",
    "        break\n",
    "i = 21035\n",
    "p = b[i-1]\n",
    "((p-1)**i + (p+1)**i)%(p**2)\n",
    "\n",
    "# answer = 21035"
   ]
  },
  {
   "cell_type": "markdown",
   "metadata": {},
   "source": [
    "Problem 131:\n",
    "There are some prime values, p, for which there exists a positive integer, n, such that the expression n^3 + n^2p is a perfect cube.\n",
    "\n",
    "For example, when p = 19, 8^3 + 8^2×19 = 12^3.\n",
    "\n",
    "What is perhaps most surprising is that for each prime with this property the value of n is unique, and there are only four such primes below one-hundred.\n",
    "\n",
    "How many primes below one million have this remarkable property?"
   ]
  },
  {
   "cell_type": "code",
   "execution_count": 30,
   "metadata": {
    "collapsed": false
   },
   "outputs": [
    {
     "name": "stdout",
     "output_type": "stream",
     "text": [
      "the answer is,  173\n"
     ]
    }
   ],
   "source": [
    "good_primes = set()\n",
    "c = [i**3 for i in range(800)]\n",
    "for i,c1 in enumerate(c[:-1]):\n",
    "    c2 = c[i+1]\n",
    "    if c2-c1<1e6:\n",
    "        if is_prime(c2-c1):\n",
    "            good_primes.add(c2-c1)\n",
    "print 'the answer is, ', len(good_primes)  "
   ]
  },
  {
   "cell_type": "markdown",
   "metadata": {},
   "source": [
    "Problem 87:\n",
    "The smallest number expressible as the sum of a prime square, prime cube, and prime fourth power is 28. In fact, there are exactly four numbers below fifty that can be expressed in such a way:\n",
    "\n",
    "28 = 2^2 + 2^3 + 2^4\n",
    "\n",
    "33 = 3^2 + 2^3 + 2^4\n",
    "\n",
    "49 = 5^2 + 2^3 + 2^4\n",
    "\n",
    "47 = 2^2 + 3^3 + 2^4\n",
    "\n",
    "How many numbers below fifty million can be expressed as the sum of a prime square, prime cube, and prime fourth power?"
   ]
  },
  {
   "cell_type": "code",
   "execution_count": 61,
   "metadata": {
    "collapsed": false
   },
   "outputs": [
    {
     "name": "stdout",
     "output_type": "stream",
     "text": [
      "the answer is  1097343\n"
     ]
    }
   ],
   "source": [
    "# b = [2,3,5]\n",
    "sums = set()\n",
    "lim = 5e7\n",
    "for p1 in b:\n",
    "    rs = lim-p1**2\n",
    "    if rs<=0:\n",
    "        break\n",
    "    p2m = rs**(1./3)\n",
    "    for p2 in b:\n",
    "        if p2<=p2m:\n",
    "            rs = lim - p1**2 - p2**3\n",
    "            if rs<=0:\n",
    "                break\n",
    "            p3m = rs**(1./4)\n",
    "            for p3 in b:\n",
    "                if p3<=p3m:\n",
    "                    num = p1**2+p2**3+p3**4\n",
    "                    if num<lim:\n",
    "                        sums.add(int(p1**2+p2**3+p3**4))\n",
    "                else:\n",
    "                    break\n",
    "        else:\n",
    "            break\n",
    "print 'the answer is ', len(sums)          "
   ]
  },
  {
   "cell_type": "markdown",
   "metadata": {},
   "source": [
    "Problem 66:\n",
    "\n",
    "\n",
    "Consider quadratic Diophantine equations of the form:\n",
    "\n",
    "x^2 – Dy^2 = 1\n",
    "\n",
    "For example, when D=13, the minimal solution in x is 649^2 – 13×180^2 = 1.\n",
    "\n",
    "It can be assumed that there are no solutions in positive integers when D is square.\n",
    "\n",
    "By finding minimal solutions in x for D = {2, 3, 5, 6, 7}, we obtain the following:\n",
    "\n",
    "3^2 – 2×2^2 = 1\n",
    "\n",
    "2^2 – 3×1^2 = 1\n",
    "\n",
    "9^2 – 5×4^2 = 1\n",
    "\n",
    "5^2 – 6×2^2 = 1\n",
    "\n",
    "8^2 – 7×3^2 = 1\n",
    "\n",
    "Hence, by considering minimal solutions in x for D ≤ 7, the largest x is obtained when D=5.\n",
    "\n",
    "Find the value of D ≤ 1000 in minimal solutions of x for which the largest value of x is obtained.\n"
   ]
  },
  {
   "cell_type": "code",
   "execution_count": 24,
   "metadata": {
    "collapsed": false
   },
   "outputs": [
    {
     "data": {
      "text/plain": [
       "(335159612, 42912791)"
      ]
     },
     "execution_count": 24,
     "metadata": {},
     "output_type": "execute_result"
    }
   ],
   "source": [
    "def find_min_sol(D):\n",
    "    '''returns minimal x and y that satisfy the diophatine equation'''\n",
    "    x = 1 \n",
    "    while True:\n",
    "#         x = math.sqrt(D*(y**2)+1)\n",
    "        y = math.sqrt((x**2-1.)/D)\n",
    "        if x%1. == 0.:\n",
    "            return int(x),y\n",
    "        x+=D\n",
    "\n",
    "def find_min_sol_frac(D):\n",
    "    s = math.sqrt(D)\n",
    "    integer = int(s)\n",
    "    frac = s - integer\n",
    "    i = 0\n",
    "    while True:\n",
    "        if i == 0:\n",
    "            num_c = integer\n",
    "            den_c = 1\n",
    "        elif i == 1:\n",
    "            num_p = num_c\n",
    "            num_c = integer * num_p +1\n",
    "            den_p = den_c\n",
    "            den_c = integer\n",
    "        else:\n",
    "            num_p1 = num_p\n",
    "            num_p = num_c\n",
    "            num_c = integer*num_p + num_p1\n",
    "            den_p1 = den_p\n",
    "            den_p = den_c\n",
    "            den_c = integer*den_p + den_p1\n",
    "            \n",
    "        if num_c**2 == D*(den_c**2)+1:\n",
    "            return num_c, den_c\n",
    "        i+=1\n",
    "        rec = 1./frac\n",
    "        integer = int(rec)\n",
    "        frac = rec - integer \n",
    "\n",
    "            \n",
    "    \n",
    "    \n",
    "find_min_sol(61)\n",
    "# # x = 1\n",
    "# # best_D = 0\n",
    "# # xys = [0]\n",
    "\n",
    "# for D in range(100,301):\n",
    "#     if math.sqrt(D)%1 !=0:\n",
    "#         xc,yc = find_min_sol(D)\n",
    "#         xys.append((xc,yc))\n",
    "#         if xc>x:\n",
    "#             x = xc\n",
    "#             best_D = D\n",
    "            \n",
    "# print 'the answer is', best_D\n",
    "        "
   ]
  },
  {
   "cell_type": "code",
   "execution_count": 23,
   "metadata": {
    "collapsed": false
   },
   "outputs": [
    {
     "data": {
      "text/plain": [
       "138626852821417989"
      ]
     },
     "execution_count": 23,
     "metadata": {},
     "output_type": "execute_result"
    }
   ],
   "source": []
  },
  {
   "cell_type": "markdown",
   "metadata": {},
   "source": [
    "Problem 74:\n",
    "\n",
    "The number 145 is well known for the property that the sum of the factorial of its digits is equal to 145:\n",
    "\n",
    "1! + 4! + 5! = 1 + 24 + 120 = 145\n",
    "\n",
    "Perhaps less well known is 169, in that it produces the longest chain of numbers that link back to 169; it turns out that there are only three such loops that exist:\n",
    "\n",
    "169 → 363601 → 1454 → 169\n",
    "\n",
    "871 → 45361 → 871\n",
    "\n",
    "872 → 45362 → 872\n",
    "\n",
    "It is not difficult to prove that EVERY starting number will eventually get stuck in a loop. For example,\n",
    "\n",
    "69 → 363600 → 1454 → 169 → 363601 (→ 1454)\n",
    "\n",
    "78 → 45360 → 871 → 45361 (→ 871)\n",
    "\n",
    "540 → 145 (→ 145)\n",
    "\n",
    "Starting with 69 produces a chain of five non-repeating terms, but the longest non-repeating chain with a starting number below one million is sixty terms.\n",
    "\n",
    "How many chains, with a starting number below one million, contain exactly sixty non-repeating terms?\n"
   ]
  },
  {
   "cell_type": "code",
   "execution_count": 2,
   "metadata": {
    "collapsed": false
   },
   "outputs": [
    {
     "data": {
      "text/plain": [
       "363601"
      ]
     },
     "execution_count": 2,
     "metadata": {},
     "output_type": "execute_result"
    }
   ],
   "source": [
    "lengths = np.zeros(1000001,dtype = 'int')\n",
    "\n",
    "counter = 0\n",
    "\n",
    "def find_factorial_sum(n):\n",
    "    return sum([math.factorial(int(d)) for d in str(n)])\n",
    "\n",
    "def find_factorial_chain_length(n):\n",
    "    a = n\n",
    "    length = 0\n",
    "    if a in [169,871,872,363601,1454,45361,45362]:\n",
    "        if a in [169,363601,1454]:\n",
    "            length+=3\n",
    "        else:\n",
    "            length+=2\n",
    "        return length\n",
    "    \n",
    "    if find_factorial_sum(a)==n:\n",
    "        return 1\n",
    "    \n",
    "    a = find_factorial_sum(a)\n",
    "    length+=1\n",
    "    while a>n:\n",
    "        if a in [169,871,872,363601,1454,45361,45362]:\n",
    "            if a in [169,363601,1454]:\n",
    "                length+=3\n",
    "            else:\n",
    "                length+=2\n",
    "            return length\n",
    "        if find_factorial_sum(a)==a:\n",
    "            return length+1\n",
    "        a = find_factorial_sum(a)\n",
    "        length+=1\n",
    "    if a<n:\n",
    "        length+=lengths[a]\n",
    "        return length \n",
    "    \n",
    "find_factorial_sum(169)\n",
    "print find_factorial_chain_length(45360)\n",
    "\n",
    "for i in range(1,1000001):\n",
    "    l = find_factorial_chain_length(i)\n",
    "    lengths[i]= l\n",
    "    if i%50000 == 0:\n",
    "        print 'Now at ',i\n",
    "    if int(l)==60:\n",
    "        counter+=1\n",
    "        print 'this number creates a 60 terms chain:', i\n",
    "#     if l>50:\n",
    "#         print 'this number creates chain longer than 50 ', i, l\n",
    "print 'the answer is ', counter"
   ]
  }
 ],
 "metadata": {
  "kernelspec": {
   "display_name": "Python 2",
   "language": "python",
   "name": "python2"
  },
  "language_info": {
   "codemirror_mode": {
    "name": "ipython",
    "version": 2
   },
   "file_extension": ".py",
   "mimetype": "text/x-python",
   "name": "python",
   "nbconvert_exporter": "python",
   "pygments_lexer": "ipython2",
   "version": "2.7.10"
  }
 },
 "nbformat": 4,
 "nbformat_minor": 0
}
