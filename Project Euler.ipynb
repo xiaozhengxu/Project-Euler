{
 "cells": [
  {
   "cell_type": "code",
   "execution_count": 4,
   "metadata": {
    "collapsed": true
   },
   "outputs": [],
   "source": [
    "import numpy as np\n",
    "import math"
   ]
  },
  {
   "cell_type": "markdown",
   "metadata": {},
   "source": [
    "Problem 66:\n",
    "\n",
    "\n",
    "Consider quadratic Diophantine equations of the form:\n",
    "\n",
    "x^2 – Dy^2 = 1\n",
    "\n",
    "For example, when D=13, the minimal solution in x is 649^2 – 13×180^2 = 1.\n",
    "\n",
    "It can be assumed that there are no solutions in positive integers when D is square.\n",
    "\n",
    "By finding minimal solutions in x for D = {2, 3, 5, 6, 7}, we obtain the following:\n",
    "\n",
    "3^2 – 2×2^2 = 1\n",
    "\n",
    "2^2 – 3×1^2 = 1\n",
    "\n",
    "9^2 – 5×4^2 = 1\n",
    "\n",
    "5^2 – 6×2^2 = 1\n",
    "\n",
    "8^2 – 7×3^2 = 1\n",
    "\n",
    "Hence, by considering minimal solutions in x for D ≤ 7, the largest x is obtained when D=5.\n",
    "\n",
    "Find the value of D ≤ 1000 in minimal solutions of x for which the largest value of x is obtained.\n"
   ]
  },
  {
   "cell_type": "code",
   "execution_count": 24,
   "metadata": {
    "collapsed": false
   },
   "outputs": [
    {
     "data": {
      "text/plain": [
       "(335159612, 42912791)"
      ]
     },
     "execution_count": 24,
     "metadata": {},
     "output_type": "execute_result"
    }
   ],
   "source": [
    "def find_min_sol(D):\n",
    "    '''returns minimal x and y that satisfy the diophatine equation'''\n",
    "    x = 1 \n",
    "    while True:\n",
    "#         x = math.sqrt(D*(y**2)+1)\n",
    "        y = math.sqrt((x**2-1.)/D)\n",
    "        if x%1. == 0.:\n",
    "            return int(x),y\n",
    "        x+=D\n",
    "\n",
    "def find_min_sol_frac(D):\n",
    "    s = math.sqrt(D)\n",
    "    integer = int(s)\n",
    "    frac = s - integer\n",
    "    i = 0\n",
    "    while True:\n",
    "        if i == 0:\n",
    "            num_c = integer\n",
    "            den_c = 1\n",
    "        elif i == 1:\n",
    "            num_p = num_c\n",
    "            num_c = integer * num_p +1\n",
    "            den_p = den_c\n",
    "            den_c = integer\n",
    "        else:\n",
    "            num_p1 = num_p\n",
    "            num_p = num_c\n",
    "            num_c = integer*num_p + num_p1\n",
    "            den_p1 = den_p\n",
    "            den_p = den_c\n",
    "            den_c = integer*den_p + den_p1\n",
    "            \n",
    "        if num_c**2 == D*(den_c**2)+1:\n",
    "            return num_c, den_c\n",
    "        i+=1\n",
    "        rec = 1./frac\n",
    "        integer = int(rec)\n",
    "        frac = rec - integer \n",
    "\n",
    "            \n",
    "    \n",
    "    \n",
    "find_min_sol(61)\n",
    "# # x = 1\n",
    "# # best_D = 0\n",
    "# # xys = [0]\n",
    "\n",
    "# for D in range(100,301):\n",
    "#     if math.sqrt(D)%1 !=0:\n",
    "#         xc,yc = find_min_sol(D)\n",
    "#         xys.append((xc,yc))\n",
    "#         if xc>x:\n",
    "#             x = xc\n",
    "#             best_D = D\n",
    "            \n",
    "# print 'the answer is', best_D\n",
    "        "
   ]
  },
  {
   "cell_type": "code",
   "execution_count": 23,
   "metadata": {
    "collapsed": false
   },
   "outputs": [
    {
     "data": {
      "text/plain": [
       "138626852821417989"
      ]
     },
     "execution_count": 23,
     "metadata": {},
     "output_type": "execute_result"
    }
   ],
   "source": []
  },
  {
   "cell_type": "markdown",
   "metadata": {},
   "source": [
    "Problem 74:\n",
    "\n",
    "The number 145 is well known for the property that the sum of the factorial of its digits is equal to 145:\n",
    "\n",
    "1! + 4! + 5! = 1 + 24 + 120 = 145\n",
    "\n",
    "Perhaps less well known is 169, in that it produces the longest chain of numbers that link back to 169; it turns out that there are only three such loops that exist:\n",
    "\n",
    "169 → 363601 → 1454 → 169\n",
    "\n",
    "871 → 45361 → 871\n",
    "\n",
    "872 → 45362 → 872\n",
    "\n",
    "It is not difficult to prove that EVERY starting number will eventually get stuck in a loop. For example,\n",
    "\n",
    "69 → 363600 → 1454 → 169 → 363601 (→ 1454)\n",
    "\n",
    "78 → 45360 → 871 → 45361 (→ 871)\n",
    "\n",
    "540 → 145 (→ 145)\n",
    "\n",
    "Starting with 69 produces a chain of five non-repeating terms, but the longest non-repeating chain with a starting number below one million is sixty terms.\n",
    "\n",
    "How many chains, with a starting number below one million, contain exactly sixty non-repeating terms?\n"
   ]
  },
  {
   "cell_type": "code",
   "execution_count": 2,
   "metadata": {
    "collapsed": false
   },
   "outputs": [
    {
     "data": {
      "text/plain": [
       "363601"
      ]
     },
     "execution_count": 2,
     "metadata": {},
     "output_type": "execute_result"
    }
   ],
   "source": [
    "lengths = np.zeros(1000001,dtype = 'int')\n",
    "\n",
    "counter = 0\n",
    "\n",
    "def find_factorial_sum(n):\n",
    "    return sum([math.factorial(int(d)) for d in str(n)])\n",
    "\n",
    "def find_factorial_chain_length(n):\n",
    "    a = n\n",
    "    length = 0\n",
    "    if a in [169,871,872,363601,1454,45361,45362]:\n",
    "        if a in [169,363601,1454]:\n",
    "            length+=3\n",
    "        else:\n",
    "            length+=2\n",
    "        return length\n",
    "    \n",
    "    if find_factorial_sum(a)==n:\n",
    "        return 1\n",
    "    \n",
    "    a = find_factorial_sum(a)\n",
    "    length+=1\n",
    "    while a>n:\n",
    "        if a in [169,871,872,363601,1454,45361,45362]:\n",
    "            if a in [169,363601,1454]:\n",
    "                length+=3\n",
    "            else:\n",
    "                length+=2\n",
    "            return length\n",
    "        if find_factorial_sum(a)==a:\n",
    "            return length+1\n",
    "        a = find_factorial_sum(a)\n",
    "        length+=1\n",
    "    if a<n:\n",
    "        length+=lengths[a]\n",
    "        return length \n",
    "    \n",
    "find_factorial_sum(169)\n",
    "print find_factorial_chain_length(45360)\n",
    "\n",
    "for i in range(1,1000001):\n",
    "    l = find_factorial_chain_length(i)\n",
    "    lengths[i]= l\n",
    "    if i%50000 == 0:\n",
    "        print 'Now at ',i\n",
    "    if int(l)==60:\n",
    "        counter+=1\n",
    "        print 'this number creates a 60 terms chain:', i\n",
    "#     if l>50:\n",
    "#         print 'this number creates chain longer than 50 ', i, l\n",
    "print 'the answer is ', counter"
   ]
  }
 ],
 "metadata": {
  "kernelspec": {
   "display_name": "Python 2",
   "language": "python",
   "name": "python2"
  },
  "language_info": {
   "codemirror_mode": {
    "name": "ipython",
    "version": 2
   },
   "file_extension": ".py",
   "mimetype": "text/x-python",
   "name": "python",
   "nbconvert_exporter": "python",
   "pygments_lexer": "ipython2",
   "version": "2.7.10"
  }
 },
 "nbformat": 4,
 "nbformat_minor": 0
}
